{
 "cells": [
  {
   "cell_type": "markdown",
   "metadata": {},
   "source": [
    "<div style='background: #FF7B47; padding: 10px; border: thin solid darblue; border-radius: 5px; margin-bottom: 2vh'>\n",
    "    \n",
    "# Session 01 - Notebook\n",
    "\n",
    "Like most session notebooks in this course, this notebook is divided into two parts. Part one is a 'manual' that will allow you to code along with the new code that we introduce at the beginning of each session. The second part is the actual lab/assignment part, where you will work through a few practical tasks and write small but useful programs."
   ]
  },
  {
   "cell_type": "markdown",
   "metadata": {},
   "source": [
    "<div style='background: #FF7B47; padding: 10px; border: thin solid darblue; border-radius: 5px'>\n",
    "    \n",
    "## Part 1 -  Manual"
   ]
  },
  {
   "cell_type": "markdown",
   "metadata": {},
   "source": [
    "<div style='background: lightsalmon; padding: 10px; border: thin solid darblue; border-radius: 5px'>\n",
    "A.1 - \"hello, world!\""
   ]
  },
  {
   "cell_type": "code",
   "execution_count": 1,
   "metadata": {},
   "outputs": [
    {
     "name": "stdout",
     "output_type": "stream",
     "text": [
      "Hello, world!\n"
     ]
    }
   ],
   "source": [
    "print('Hello, world!')"
   ]
  },
  {
   "cell_type": "markdown",
   "metadata": {},
   "source": [
    "<div style='background: lightsalmon; padding: 10px; border: thin solid darblue; border-radius: 5px'>\n",
    "A.2 - basic datatypes - strings and numeric variables"
   ]
  },
  {
   "cell_type": "code",
   "execution_count": 2,
   "metadata": {},
   "outputs": [
    {
     "name": "stdout",
     "output_type": "stream",
     "text": [
      "2\n",
      "6\n",
      "16\n"
     ]
    }
   ],
   "source": [
    "# your code here\n",
    "print(2)\n",
    "print(2+4)\n",
    "print(2**4)"
   ]
  },
  {
   "cell_type": "code",
   "execution_count": 3,
   "metadata": {},
   "outputs": [],
   "source": [
    "my_var = 2"
   ]
  },
  {
   "cell_type": "code",
   "execution_count": 4,
   "metadata": {},
   "outputs": [
    {
     "name": "stdout",
     "output_type": "stream",
     "text": [
      "4\n"
     ]
    }
   ],
   "source": [
    "print(my_var*2)"
   ]
  },
  {
   "cell_type": "markdown",
   "metadata": {},
   "source": [
    "<div style='background: lightsalmon; padding: 10px; border: thin solid darblue; border-radius: 5px'>\n",
    "A.3 - basic operations"
   ]
  },
  {
   "cell_type": "code",
   "execution_count": 5,
   "metadata": {},
   "outputs": [
    {
     "name": "stdout",
     "output_type": "stream",
     "text": [
      "4\n",
      "16\n"
     ]
    }
   ],
   "source": [
    "# your code here\n",
    "print(my_var *2)\n",
    "print(my_var **4)"
   ]
  },
  {
   "cell_type": "markdown",
   "metadata": {},
   "source": [
    "<div style='background: lightsalmon; padding: 10px; border: thin solid darblue; border-radius: 5px'>\n",
    "A.4 - advanced data types to store collections of data"
   ]
  },
  {
   "cell_type": "code",
   "execution_count": 6,
   "metadata": {},
   "outputs": [],
   "source": [
    "# your code here - lists"
   ]
  },
  {
   "cell_type": "code",
   "execution_count": 7,
   "metadata": {},
   "outputs": [
    {
     "name": "stdout",
     "output_type": "stream",
     "text": [
      "Ford\n",
      "{'test': 'here', 'test_2': 'here_2'}\n",
      "here\n"
     ]
    }
   ],
   "source": [
    "# your code here - dictionaries\n",
    "\n",
    "my_dict = {\n",
    "    \"brand\": \"Ford\",\n",
    "    \"model\": \"Mustang\",\n",
    "    \"year\": 1964,\n",
    "    \"example\" : {'test':'here', 'test_2': 'here_2'}  \n",
    "}\n",
    "\n",
    "print(my_dict['brand'])\n",
    "print(my_dict['example'])\n",
    "print(my_dict['example']['test'])"
   ]
  },
  {
   "cell_type": "markdown",
   "metadata": {},
   "source": [
    "<div style='background: lightsalmon; padding: 10px; border: thin solid darblue; border-radius: 5px'>\n",
    "A.5 - for loops"
   ]
  },
  {
   "cell_type": "code",
   "execution_count": 8,
   "metadata": {},
   "outputs": [
    {
     "name": "stdout",
     "output_type": "stream",
     "text": [
      "apple\n",
      "banana\n",
      "strawberry\n",
      "peach\n"
     ]
    }
   ],
   "source": [
    "# your code here\n",
    "fruits = ['apple', 'banana', 'strawberry', 'peach']\n",
    "\n",
    "# we are iterating over each element in the data structure\n",
    "for fruit in fruits:\n",
    "    print(fruit)\n"
   ]
  },
  {
   "cell_type": "code",
   "execution_count": 9,
   "metadata": {},
   "outputs": [
    {
     "name": "stdout",
     "output_type": "stream",
     "text": [
      "apple\n",
      "2\n",
      "banana\n",
      "3\n",
      "strawberry\n",
      "10\n",
      "peach\n",
      "4\n"
     ]
    }
   ],
   "source": [
    "fruits_in_fridge = {\n",
    "  'apple': 2,\n",
    "  'banana': 3, \n",
    "  'strawberry':10,\n",
    "  'peach': 4\n",
    "}\n",
    "\n",
    "for key in fruits_in_fridge:\n",
    "    print(key) # printing the keys\n",
    "    print(fruits_in_fridge[key])"
   ]
  },
  {
   "cell_type": "markdown",
   "metadata": {},
   "source": [
    "<div style='background: lightsalmon; padding: 10px; border: thin solid darblue; border-radius: 5px'>\n",
    "A.6 - Python If ... Else"
   ]
  },
  {
   "cell_type": "code",
   "execution_count": 10,
   "metadata": {},
   "outputs": [
    {
     "name": "stdout",
     "output_type": "stream",
     "text": [
      "a and b are equal\n"
     ]
    }
   ],
   "source": [
    "# your code here\n",
    "\n",
    "a = 33\n",
    "b = 33\n",
    "if b > a:\n",
    "    print(\"b is greater than a\")\n",
    "elif a == b:\n",
    "    print(\"a and b are equal\")\n",
    "else:\n",
    "    print(\"a is greater than b\")"
   ]
  },
  {
   "cell_type": "markdown",
   "metadata": {},
   "source": [
    "<div style='background: lightsalmon; padding: 10px; border: thin solid darblue; border-radius: 5px'>\n",
    "A.6 - Functions"
   ]
  },
  {
   "cell_type": "code",
   "execution_count": 11,
   "metadata": {},
   "outputs": [],
   "source": [
    "# Your code here\n",
    "def say_hello_to(name):\n",
    "    print(\"hello, \" + name)\n"
   ]
  },
  {
   "cell_type": "code",
   "execution_count": 12,
   "metadata": {},
   "outputs": [
    {
     "name": "stdout",
     "output_type": "stream",
     "text": [
      "hello, Nathan\n"
     ]
    }
   ],
   "source": [
    "say_hello_to('Nathan')"
   ]
  },
  {
   "cell_type": "code",
   "execution_count": 13,
   "metadata": {},
   "outputs": [
    {
     "name": "stdout",
     "output_type": "stream",
     "text": [
      "hello, Megan\n",
      "hello, Robert\n",
      "hello, Jermain\n",
      "hello, Angela\n",
      "hello, Amr\n",
      "hello, Anthony\n",
      "hello, Rex\n",
      "hello, Nathan\n"
     ]
    }
   ],
   "source": [
    "list_of_names = ['Megan', 'Robert', 'Jermain', 'Angela', 'Amr', 'Anthony', 'Rex', 'Nathan']\n",
    "\n",
    "for classmate in list_of_names:\n",
    "    say_hello_to(classmate)"
   ]
  },
  {
   "cell_type": "markdown",
   "metadata": {},
   "source": [
    "<div style='background: #6A9EB4; padding: 10px; border: thin solid darblue; border-radius: 5px'>\n",
    "\n",
    "## Part 2 - Lab\n",
    "    \n",
    "During today's lab you will write code that will help the College to perform the house lottery more efficiently and assist the house administrations in a variety of tasks."
   ]
  },
  {
   "cell_type": "markdown",
   "metadata": {},
   "source": [
    "<div style='background: #ADCAD6; padding: 10px; border: thin solid darblue; border-radius: 5px'>\n",
    "\n",
    "## Task #1 - automatize the house lottery\n",
    "\n",
    "In the precirculated template folder, you will find the file students.csv with all rising sophomores that will enter the house lottery, i.e. they will get assigned to one of the twelve undergraduate houses. So far, the college has done this task manually but they hope that you can help them to automtize that process. Please load the csv and add another column 'house_id'. Pyhton's csv package will come in handy to load the csv file and treat each row as a list. Having loaded the file, add a random house id to each student and save that information in a new csv file. You might find the python package 'random' quite useful to automatize the lottery process. We've imported the package for you and provided an example.\n"
   ]
  },
  {
   "cell_type": "markdown",
   "metadata": {},
   "source": [
    "<div style='background: #ADCAD6; padding: 10px; border: thin solid darblue; border-radius: 5px'>\n",
    "Examples and precirculated code:"
   ]
  },
  {
   "cell_type": "code",
   "execution_count": 14,
   "metadata": {},
   "outputs": [],
   "source": [
    "# house ids lookup tables\n",
    "\n",
    "house_to_id = {\n",
    "    'Adams House': 0,\n",
    "    'Cabot House': 1,\n",
    "    'Currier House' : 2,\n",
    "    'Dunster House': 3,\n",
    "    'Eliot House': 4,\n",
    "    'Kirkland House': 5,\n",
    "    'Leverett House': 6,\n",
    "    'Lowell House': 7,\n",
    "    'Mather House': 8,\n",
    "    'Pforzheimer House':9,\n",
    "    'Quincy House': 10,\n",
    "    'Winthrop House': 11\n",
    "}\n",
    "\n",
    "id_to_house = {\n",
    "    0: 'Adams House',\n",
    "    1: 'Cabot House',\n",
    "    2: 'Currier House',\n",
    "    3: 'Dunster House',\n",
    "    4: 'Eliot House',\n",
    "    5: 'Kirkland House',\n",
    "    6: 'Leverett House',\n",
    "    7: 'Lowell House',\n",
    "    8: 'Mather House',\n",
    "    9: 'Pforzheimer House',\n",
    "    10: 'Quincy House',\n",
    "    11: 'Winthrop House'\n",
    "}"
   ]
  },
  {
   "cell_type": "code",
   "execution_count": 15,
   "metadata": {},
   "outputs": [],
   "source": [
    "# importing useful python packages\n",
    "import random\n",
    "import csv"
   ]
  },
  {
   "cell_type": "code",
   "execution_count": 16,
   "metadata": {},
   "outputs": [
    {
     "name": "stdout",
     "output_type": "stream",
     "text": [
      "['Oona', 'Swigart', '16076420', 'Oona.Swigart@college.harvard.edu']\n"
     ]
    }
   ],
   "source": [
    "# some example code snippets how to load a csv file and how to write into one\n",
    "\n",
    "# read\n",
    "file_read = open(\"data/students.csv\", \"r\")\n",
    "reader = csv.reader(file_read)\n",
    "\n",
    "for row in reader:\n",
    "    print(row)\n",
    "    break # breaking after first element feel free to check out the entire data stucture\n",
    "    \n",
    "file_read.close()\n",
    "\n",
    "# write - notice that the file doesn't have to exist beforehand! csv write will create the file automatically, which is very useful!\n",
    "file_write = open('students_with_house.csv', 'w', newline='')\n",
    "\n",
    "writer = csv.writer(file_write)\n",
    "\n",
    "# we just write one row here. It might be useful to put this line into a loop when automatizing things\n",
    "writer.writerow(['first_name', 'last_name', 'HUID','email', 'house_id'])\n",
    "\n",
    "file_write.close()\n",
    "\n"
   ]
  },
  {
   "cell_type": "code",
   "execution_count": 17,
   "metadata": {},
   "outputs": [
    {
     "name": "stdout",
     "output_type": "stream",
     "text": [
      "6\n"
     ]
    }
   ],
   "source": [
    "# example - generate a random integer between 1 and 10.\n",
    "example_random = random.randint(1,10)\n",
    "print(example_random)"
   ]
  },
  {
   "cell_type": "markdown",
   "metadata": {},
   "source": [
    "<div style='background: #ADCAD6; padding: 10px; border: thin solid darblue; border-radius: 5px'>\n",
    "Your turn - load the csv file, create a random number for each student between 0-11 and store all students in a new csv file with their respective house assignments. A for loop might come in handy."
   ]
  },
  {
   "cell_type": "code",
   "execution_count": 18,
   "metadata": {},
   "outputs": [],
   "source": [
    "# your code here\n",
    "file_read = open(\"data/students.csv\", \"r\")\n",
    "reader = csv.reader(file_read)\n",
    "\n",
    "# write - notice that the file doesn't have to exist beforehand! csv write will create the file automatically, which is very useful!\n",
    "file_write = open('students_with_house.csv', 'w', newline='')\n",
    "writer = csv.writer(file_write)\n",
    "\n",
    "for row in reader:\n",
    "    \n",
    "    student = row\n",
    "    house_tmp = random.randint(0,11)\n",
    "    student.append(house_tmp)\n",
    "    writer.writerow(student)\n",
    "\n",
    "file_write.close()\n",
    "    "
   ]
  },
  {
   "cell_type": "markdown",
   "metadata": {},
   "source": [
    "<div style='background: #ADCAD6; padding: 10px; border: thin solid darblue; border-radius: 5px'>\n",
    "Write a small program that makes sure that you've successfully created and populated a csv with all students and their assigned houses."
   ]
  },
  {
   "cell_type": "code",
   "execution_count": 19,
   "metadata": {
    "scrolled": true
   },
   "outputs": [
    {
     "name": "stdout",
     "output_type": "stream",
     "text": [
      "['Oona', 'Swigart', '16076420', 'Oona.Swigart@college.harvard.edu', '3']\n"
     ]
    }
   ],
   "source": [
    "# your code here\n",
    "file_test = open('students_with_house.csv', 'r')\n",
    "reader = csv.reader(file_test)\n",
    "\n",
    "for row in reader:\n",
    "    print(row)\n",
    "    break\n"
   ]
  },
  {
   "cell_type": "markdown",
   "metadata": {},
   "source": [
    "<div style='background: #ADCAD6; padding: 10px; border: thin solid darblue; border-radius: 5px'>\n",
    "\n",
    "## Task #2 - generate a file for a house on demand\n",
    "\n",
    "OK, you've helped the college out with the lottery but now the house administrators are struggling a bit because they have all 2000 students in one file but only care about the students that were assigned to their particular house. Write a small programm that solves that task on demand and generates a csv for them with only their students. You can write a program that does this task on demand for a given house, or you can generate a csv for each house in advance.\n"
   ]
  },
  {
   "cell_type": "code",
   "execution_count": 20,
   "metadata": {},
   "outputs": [],
   "source": [
    "# your code here\n",
    "\n",
    "house = 'Adams House'\n",
    "house_id = house_to_id['Adams House']\n",
    "\n",
    "file_read = open('students_with_house.csv', 'r')\n",
    "reader = csv.reader(file_read)\n",
    "\n",
    "file_write = open('adams_students.csv', 'w', newline='')\n",
    "writer = csv.writer(file_write)\n",
    "\n",
    "for row in reader:\n",
    "    if int(row[4]) == house_id:\n",
    "        writer.writerow(row)\n",
    "        \n",
    "file_write.close()"
   ]
  },
  {
   "cell_type": "code",
   "execution_count": 22,
   "metadata": {},
   "outputs": [],
   "source": [
    "def make_house_file(house):\n",
    "    \n",
    "    house_id = house_to_id[house]\n",
    "\n",
    "    file_read = open('students_with_house.csv', 'r')\n",
    "    reader = csv.reader(file_read)\n",
    "\n",
    "    file_write = open(house + '_students.csv', 'w', newline='')\n",
    "    writer = csv.writer(file_write)\n",
    "\n",
    "    for row in reader:\n",
    "        if int(row[4]) == house_id:\n",
    "            writer.writerow(row)\n",
    "\n",
    "    file_write.close()"
   ]
  },
  {
   "cell_type": "code",
   "execution_count": 23,
   "metadata": {},
   "outputs": [],
   "source": [
    "for house_name in house_to_id:\n",
    "    make_house_file(house_name)"
   ]
  },
  {
   "cell_type": "markdown",
   "metadata": {},
   "source": [
    "<div style='background: #CBE0A4; padding: 10px; border: thin solid darblue; border-radius: 5px'>\n",
    "\n",
    "## Bonus Tasks\n",
    "    \n",
    "1. calculate vacant rooms per house\n",
    "2. write a program that computes the number of students assigned per house in a given csv\n",
    "3. write a function that checks whether there are problems with the numbers of students assigned to each house\n",
    "4. write code that assigns students randomly but in such a way that there are no capacity issues."
   ]
  },
  {
   "cell_type": "markdown",
   "metadata": {},
   "source": [
    "<div style='background: #CBE0A4; padding: 10px; border: thin solid darblue; border-radius: 5px'>\n",
    "Some house administrators have complaned that the list of students is too long to accomodate all new sophomores assigned to their houses. Since some houses are bigger and others are smaller, we cannot simply generate integers and get away with the randomly generated number of students in each house. Rather, we have to check more carefolly whether there is still capacity. Below, find two useful dictionaries hat should help you to solve this task."
   ]
  },
  {
   "cell_type": "code",
   "execution_count": 54,
   "metadata": {},
   "outputs": [],
   "source": [
    "# bonus is house with exact capacities\n",
    "\n",
    "house_capacity = {\n",
    "    'Adams House': 411,\n",
    "    'Cabot House': 362,\n",
    "    'Currier House' : 356,\n",
    "    'Dunster House': 428,\n",
    "    'Eliot House': 450,\n",
    "    'Kirkland House': 400,\n",
    "    'Leverett House': 480,\n",
    "    'Lowell House': 450,\n",
    "    'Mather House': 426,\n",
    "    'Pforzheimer House':360,\n",
    "    'Quincy House': 420,\n",
    "    'Winthrop House': 500\n",
    "}\n",
    "\n",
    "# number of occupied rooms after seniors have left\n",
    "house_occupied = {\n",
    "    'Adams House': 236,\n",
    "    'Cabot House': 213,\n",
    "    'Currier House' : 217,\n",
    "    'Dunster House': 296,\n",
    "    'Eliot House': 288,\n",
    "    'Kirkland House': 224,\n",
    "    'Leverett House': 233,\n",
    "    'Lowell House': 242,\n",
    "    'Mather House': 217,\n",
    "    'Pforzheimer House':195,\n",
    "    'Quincy House': 253,\n",
    "    'Winthrop House': 310\n",
    "}"
   ]
  },
  {
   "cell_type": "code",
   "execution_count": 55,
   "metadata": {},
   "outputs": [],
   "source": [
    "house_names = []\n",
    "\n",
    "for house in house_capacity:\n",
    "    house_names.append(house)"
   ]
  },
  {
   "cell_type": "markdown",
   "metadata": {},
   "source": [
    "<div style='background: #CBE0A4; padding: 10px; border: thin solid darblue; border-radius: 5px'>Let's start by writing a small program that helps us to calculate the vacant rooms for each house. Try to use a dictionary structure that contains all information for each house. Feel free to also write a few lines that check how many vacant rooms there are in total."
   ]
  },
  {
   "cell_type": "code",
   "execution_count": 56,
   "metadata": {},
   "outputs": [
    {
     "name": "stdout",
     "output_type": "stream",
     "text": [
      "{'Adams House': 175, 'Cabot House': 149, 'Currier House': 139, 'Dunster House': 132, 'Eliot House': 162, 'Kirkland House': 176, 'Leverett House': 247, 'Lowell House': 208, 'Mather House': 209, 'Pforzheimer House': 165, 'Quincy House': 167, 'Winthrop House': 190}\n"
     ]
    }
   ],
   "source": [
    "vacant_rooms = {}\n",
    "\n",
    "\n",
    "# your code here\n",
    "\n",
    "for house in house_names:\n",
    "    vacant_rooms[house] = house_capacity[house] - house_occupied[house]\n",
    "    \n",
    "# your code ends here\n",
    "\n",
    "print(vacant_rooms)"
   ]
  },
  {
   "cell_type": "code",
   "execution_count": 57,
   "metadata": {},
   "outputs": [
    {
     "name": "stdout",
     "output_type": "stream",
     "text": [
      "2119\n"
     ]
    }
   ],
   "source": [
    "# your code here\n",
    "\n",
    "# take each house name\n",
    "# add their values\n",
    "\n",
    "total = 0\n",
    "\n",
    "for house in house_names:\n",
    "    total = total + vacant_rooms[house]\n",
    "    \n",
    "    # total += vacant_rooms[house]\n",
    "    \n",
    "    \n",
    "print(total)"
   ]
  },
  {
   "cell_type": "markdown",
   "metadata": {},
   "source": [
    "<div style='background: #CBE0A4; padding: 10px; border: thin solid darblue; border-radius: 5px'>Let's now write a small function that calculates the number of students assigned per house with our old method and returns a dictionary with that information"
   ]
  },
  {
   "cell_type": "code",
   "execution_count": 58,
   "metadata": {},
   "outputs": [],
   "source": [
    "helper_dict = {\n",
    "    \"A\": 222,\n",
    "    \"B\": 123\n",
    "}\n"
   ]
  },
  {
   "cell_type": "code",
   "execution_count": 59,
   "metadata": {},
   "outputs": [],
   "source": [
    "def calculate_students_per_house(filename):\n",
    "\n",
    "    # helper dict\n",
    "    helper_dict = {\n",
    "        'Adams House': 0,\n",
    "        'Cabot House': 0,\n",
    "        'Currier House' : 0,\n",
    "        'Dunster House': 0,\n",
    "        'Eliot House': 0,\n",
    "        'Kirkland House': 0,\n",
    "        'Leverett House': 0,\n",
    "        'Lowell House': 0,\n",
    "        'Mather House': 0,\n",
    "        'Pforzheimer House':0,\n",
    "        'Quincy House': 0,\n",
    "        'Winthrop House': 0\n",
    "    }\n",
    "\n",
    "    # your code here\n",
    "    \n",
    "    file_read = open(filename, 'r')\n",
    "    \n",
    "    reader = csv.reader(file_read)\n",
    "    \n",
    "    for row in reader:\n",
    "        house_id = int(row[4])\n",
    "        house_name = id_to_house[house_id]\n",
    "        \n",
    "        helper_dict[house_name] =  helper_dict[house_name] + 1\n",
    "    \n",
    "    # your code ends here\n",
    "\n",
    "    return helper_dict\n",
    "    "
   ]
  },
  {
   "cell_type": "code",
   "execution_count": 60,
   "metadata": {},
   "outputs": [
    {
     "name": "stdout",
     "output_type": "stream",
     "text": [
      "{'Adams House': 160, 'Cabot House': 159, 'Currier House': 171, 'Dunster House': 151, 'Eliot House': 164, 'Kirkland House': 204, 'Leverett House': 155, 'Lowell House': 177, 'Mather House': 172, 'Pforzheimer House': 156, 'Quincy House': 151, 'Winthrop House': 180}\n"
     ]
    }
   ],
   "source": [
    "assigned_students_random = calculate_students_per_house('students_with_house.csv')\n",
    "\n",
    "print(assigned_students_random)"
   ]
  },
  {
   "cell_type": "markdown",
   "metadata": {},
   "source": [
    "<div style='background: #CBE0A4; padding: 10px; border: thin solid darblue; border-radius: 5px'>Next, let's check by how much we were off for each house with our random approach. "
   ]
  },
  {
   "cell_type": "code",
   "execution_count": 75,
   "metadata": {},
   "outputs": [],
   "source": [
    "def house_assignment_check(assignements_per_house_dict):\n",
    "    \n",
    "    # your code here\n",
    "    \n",
    "    for house in house_names:\n",
    "        difference = vacant_rooms[house] - assignements_per_house_dict[house]\n",
    "\n",
    "        if difference < 0:\n",
    "            print(f'there is a problem with {house}. We have assigned {abs(difference)} too many students')\n",
    "        else:\n",
    "            print(f'there is no problemwith {house}')"
   ]
  },
  {
   "cell_type": "code",
   "execution_count": 76,
   "metadata": {},
   "outputs": [
    {
     "name": "stdout",
     "output_type": "stream",
     "text": [
      "there is no problemwith Adams House\n",
      "there is a problem with Cabot House. We have assigned 10 too many students\n",
      "there is a problem with Currier House. We have assigned 32 too many students\n",
      "there is a problem with Dunster House. We have assigned 19 too many students\n",
      "there is a problem with Eliot House. We have assigned 2 too many students\n",
      "there is a problem with Kirkland House. We have assigned 28 too many students\n",
      "there is no problemwith Leverett House\n",
      "there is no problemwith Lowell House\n",
      "there is no problemwith Mather House\n",
      "there is no problemwith Pforzheimer House\n",
      "there is no problemwith Quincy House\n",
      "there is no problemwith Winthrop House\n"
     ]
    }
   ],
   "source": [
    "house_assignment_check(assigned_students_random)"
   ]
  },
  {
   "cell_type": "markdown",
   "metadata": {},
   "source": [
    "<div style='background: #CBE0A4; padding: 10px; border: thin solid darblue; border-radius: 5px'>Finally, let's write a function that assignes houses more carefully. We can still generate random integers to assign a house, but we need to check whether that house still has capacity. For that reason, please create a function called assign_house() that generates not only a random number, but also checks whether that number is valid, i.e. if that house still has capacity. If there's no capacity, that function should call itself again until it generates a house (id) that still has capacity."
   ]
  },
  {
   "cell_type": "code",
   "execution_count": 77,
   "metadata": {},
   "outputs": [],
   "source": [
    "vacant_rooms = {'Adams House': 175,\n",
    "                'Cabot House': 149,\n",
    "                'Currier House': 139, \n",
    "                'Dunster House': 132, \n",
    "                'Eliot House': 162, \n",
    "                'Kirkland House': 176, 'Leverett House': 247, 'Lowell House': 208, 'Mather House': 209, 'Pforzheimer House': 165, 'Quincy House': 167, 'Winthrop House': 190}"
   ]
  },
  {
   "cell_type": "code",
   "execution_count": 78,
   "metadata": {},
   "outputs": [],
   "source": [
    "# solution\n",
    "\n",
    "def assign_house():\n",
    "    \n",
    "    house_id = random.randint(0,11)\n",
    "    house_name = id_to_house[house_id]\n",
    "    \n",
    "    if vacant_rooms[house_name] > 0:\n",
    "        vacant_rooms[house_name] -= 1 \n",
    "        return house_id\n",
    "    \n",
    "    else:\n",
    "        return assign_house()\n",
    "        \n",
    "    \n",
    "    \n",
    "    "
   ]
  },
  {
   "cell_type": "code",
   "execution_count": 79,
   "metadata": {},
   "outputs": [],
   "source": [
    "# next, load the students.csv file, read it row by row and use the \"assign_house()\" function to generate a house for each student.\n",
    "\n",
    "# your code here\n",
    "\n",
    "\n",
    "# your code here\n",
    "file_read = open(\"data/students.csv\", \"r\")\n",
    "reader = csv.reader(file_read)\n",
    "\n",
    "# write - notice that the file doesn't have to exist beforehand! csv write will create the file automatically, which is very useful!\n",
    "file_write = open('students_with_house_correct_capaity.csv', 'w', newline='')\n",
    "writer = csv.writer(file_write)\n",
    "\n",
    "for row in reader:\n",
    "    \n",
    "    student = row\n",
    "    correct_house = assign_house()\n",
    "    student.append(correct_house)\n",
    "    writer.writerow(student)\n",
    "\n",
    "file_write.close()\n",
    "    \n",
    "    "
   ]
  },
  {
   "cell_type": "code",
   "execution_count": 80,
   "metadata": {},
   "outputs": [
    {
     "name": "stdout",
     "output_type": "stream",
     "text": [
      "['Oona', 'Swigart', '16076420', 'Oona.Swigart@college.harvard.edu', '6']\n"
     ]
    }
   ],
   "source": [
    "# finally, check whether your new solution is working flawlesly\n",
    "\n",
    "# your code here\n",
    "file_read = open(\"students_with_house_correct_capaity.csv\", \"r\")\n",
    "reader = csv.reader(file_read)\n",
    "\n",
    "for row in reader:\n",
    "    print(row)\n",
    "    break"
   ]
  },
  {
   "cell_type": "code",
   "execution_count": 81,
   "metadata": {},
   "outputs": [
    {
     "data": {
      "text/plain": [
       "{'Adams House': 172,\n",
       " 'Cabot House': 149,\n",
       " 'Currier House': 139,\n",
       " 'Dunster House': 132,\n",
       " 'Eliot House': 162,\n",
       " 'Kirkland House': 176,\n",
       " 'Leverett House': 188,\n",
       " 'Lowell House': 189,\n",
       " 'Mather House': 179,\n",
       " 'Pforzheimer House': 164,\n",
       " 'Quincy House': 167,\n",
       " 'Winthrop House': 183}"
      ]
     },
     "execution_count": 81,
     "metadata": {},
     "output_type": "execute_result"
    }
   ],
   "source": [
    "assigned_students_per_house = calculate_students_per_house('students_with_house_correct_capaity.csv')\n",
    "assigned_students_per_house"
   ]
  },
  {
   "cell_type": "code",
   "execution_count": 82,
   "metadata": {},
   "outputs": [],
   "source": [
    "vacant_rooms = {'Adams House': 175,\n",
    "                'Cabot House': 149,\n",
    "                'Currier House': 139, \n",
    "                'Dunster House': 132, \n",
    "                'Eliot House': 162, \n",
    "                'Kirkland House': 176, \n",
    "                'Leverett House': 247,\n",
    "                'Lowell House': 208,\n",
    "                'Mather House': 209, \n",
    "                'Pforzheimer House': 165,\n",
    "                'Quincy House': 167, \n",
    "                'Winthrop House': 190}"
   ]
  },
  {
   "cell_type": "code",
   "execution_count": 83,
   "metadata": {},
   "outputs": [
    {
     "name": "stdout",
     "output_type": "stream",
     "text": [
      "there is no problemwith Adams House\n",
      "there is no problemwith Cabot House\n",
      "there is no problemwith Currier House\n",
      "there is no problemwith Dunster House\n",
      "there is no problemwith Eliot House\n",
      "there is no problemwith Kirkland House\n",
      "there is no problemwith Leverett House\n",
      "there is no problemwith Lowell House\n",
      "there is no problemwith Mather House\n",
      "there is no problemwith Pforzheimer House\n",
      "there is no problemwith Quincy House\n",
      "there is no problemwith Winthrop House\n"
     ]
    }
   ],
   "source": [
    "house_assignment_check(assigned_students_per_house)"
   ]
  },
  {
   "cell_type": "code",
   "execution_count": null,
   "metadata": {},
   "outputs": [],
   "source": []
  },
  {
   "cell_type": "code",
   "execution_count": null,
   "metadata": {},
   "outputs": [],
   "source": []
  },
  {
   "cell_type": "code",
   "execution_count": null,
   "metadata": {},
   "outputs": [],
   "source": []
  },
  {
   "cell_type": "code",
   "execution_count": null,
   "metadata": {},
   "outputs": [],
   "source": []
  },
  {
   "cell_type": "code",
   "execution_count": null,
   "metadata": {},
   "outputs": [],
   "source": []
  }
 ],
 "metadata": {
  "kernelspec": {
   "display_name": "Python 3",
   "language": "python",
   "name": "python3"
  },
  "language_info": {
   "codemirror_mode": {
    "name": "ipython",
    "version": 3
   },
   "file_extension": ".py",
   "mimetype": "text/x-python",
   "name": "python",
   "nbconvert_exporter": "python",
   "pygments_lexer": "ipython3",
   "version": "3.8.10"
  }
 },
 "nbformat": 4,
 "nbformat_minor": 4
}
